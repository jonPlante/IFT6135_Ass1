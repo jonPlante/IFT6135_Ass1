{
 "cells": [
  {
   "cell_type": "markdown",
   "metadata": {
    "colab_type": "text",
    "id": "GXbYSjn3jeWO"
   },
   "source": [
    "# **Problem 1**\n",
    "\n",
    "\n",
    "google collab link: https://colab.research.google.com/drive/155TdCXJxHunKuByI8kIaX_P-XQic0qLd\n",
    "\n",
    "\n",
    "You must download the minst data set from git and upload it to your google drive:\n",
    "\n",
    "https://github.com/jonPlante/IFT6135_Ass1\n",
    "\n"
   ]
  },
  {
   "cell_type": "code",
   "execution_count": null,
   "metadata": {
    "colab": {
     "base_uri": "https://localhost:8080/",
     "height": 128
    },
    "colab_type": "code",
    "id": "zc9fGMHzhTHt",
    "outputId": "12c1c52e-c49b-4802-ea6b-90dd2a99a07c"
   },
   "outputs": [],
   "source": [
    "import numpy as np\n",
    "import gzip\n",
    "import pickle\n",
    "import matplotlib.pyplot as plt\n",
    "from google.colab import drive\n",
    "drive.mount('/content/gdrive')\n"
   ]
  },
  {
   "cell_type": "code",
   "execution_count": 0,
   "metadata": {
    "colab": {},
    "colab_type": "code",
    "id": "2eZYEGAErXms"
   },
   "outputs": [],
   "source": [
    "# load data\n",
    "with gzip.open('/content/gdrive/My Drive/mnist.pkl.gz', 'rb') as f:\n",
    "    train_set, valid_set, test_set = pickle.load(f, encoding='latin1')"
   ]
  },
  {
   "cell_type": "markdown",
   "metadata": {
    "colab_type": "text",
    "id": "x1CN3sAPjony"
   },
   "source": [
    "## Building the model"
   ]
  },
  {
   "cell_type": "code",
   "execution_count": 0,
   "metadata": {
    "colab": {},
    "colab_type": "code",
    "id": "Jh85Ckw3dyHX"
   },
   "outputs": [],
   "source": [
    "class NN(object):\n",
    "    \n",
    "    def __init__(self,Winitial,train_set,valid_set,test_set,LR,hidden_dims,n_hidden=2,mode='train'):\n",
    "      self.train_set=train_set\n",
    "      self.valid_set=valid_set\n",
    "      self.test_set=test_set\n",
    "      self.LR=LR\n",
    "      self.dims=hidden_dims\n",
    "      self.initialize_weights(Winitial,hidden_dims,len(self.train_set[0][0]),np.max(self.train_set[1])+1)\n",
    "      self.reset_grad(len(self.train_set[0][0]))\n",
    "      \n",
    "             \n",
    "    def initialize_weights(self,Winitial,dims,inputs,n_classes):\n",
    "      if Winitial=='zero':\n",
    "        self.W1=np.zeros((dims[0],inputs))\n",
    "        self.W2=np.zeros((dims[1],dims[0]))\n",
    "        self.W3=np.zeros((n_classes,dims[1]))\n",
    "                \n",
    "      elif Winitial=='normal':\n",
    "        self.W1=np.random.normal(0,1,(dims[0],inputs))\n",
    "        self.W2=np.random.normal(0,1,(dims[1],dims[0]))\n",
    "        self.W3=np.random.normal(0,1,(n_classes,dims[1]))\n",
    "        \n",
    "      elif Winitial=='glarot':\n",
    "        dl=np.sqrt(6/(dims[0]+inputs))\n",
    "        self.W1=np.random.uniform(-dl,dl,(dims[0],inputs))\n",
    "        dl=np.sqrt(6/(dims[1]+dims[0]))\n",
    "        self.W2=np.random.uniform(-dl,dl,(dims[1],dims[0]))\n",
    "        dl=np.sqrt(6/(n_classes+dims[1]))\n",
    "        self.W3=np.random.uniform(-dl,dl,(n_classes,dims[1]))\n",
    "        \n",
    "        \n",
    "      self.b1=np.zeros((dims[0],1))\n",
    "      self.b2=np.zeros((dims[1],1))\n",
    "      self.b3=np.zeros((n_classes,1))\n",
    "      self.n_classes=n_classes\n",
    "    def forward(self,input,label):\n",
    "      self.oneHot=np.zeros((self.n_classes,1))\n",
    "      self.oneHot[label]=1\n",
    "      self.a1=np.dot(self.W1,input)+self.b1\n",
    "      self.h1=self.activation_sig(self.a1)\n",
    "      self.a2=np.dot(self.W2,self.h1)+self.b2\n",
    "      self.h2=self.activation_sig(self.a2)\n",
    "      self.a3=np.dot(self.W3,self.h2)+self.b3\n",
    "      self.output=self.softmax(self.a3)\n",
    "      self.L=self.loss(self.output,self.oneHot)\n",
    "      \n",
    "    \n",
    "    def activation(self,input):\n",
    "      #relu\n",
    "      return np.maximum(0,input)\n",
    "    def activation_sig(self,input):\n",
    "      return 1/(1+np.exp(-input))\n",
    "    \n",
    "    def loss(self,predictions,onehot):\n",
    "      return np.sum(-onehot*np.log(predictions))\n",
    "    \n",
    "    def softmax(self,input):\n",
    "      input=input-np.max(input)\n",
    "      return np.exp(input)/np.sum(np.exp(input))\n",
    "    \n",
    "    def reset_grad(self,inputs):\n",
    "      self.gW3_MB=np.zeros((self.n_classes,self.dims[1]))\n",
    "      self.gb3_MB=np.zeros((self.n_classes,1))\n",
    "      self.gW2_MB=np.zeros((self.dims[1],self.dims[0]))\n",
    "      self.gb2_MB=np.zeros((self.dims[1],1))\n",
    "      self.gW1_MB=np.zeros((self.dims[0],inputs))\n",
    "      self.gb1_MB=np.zeros((self.dims[0],1))\n",
    "    \n",
    "    def backward(self,input):\n",
    "      self.go=-1/self.output*self.oneHot\n",
    "      self.ga3=self.go[np.argmax(self.oneHot)]*(self.oneHot*self.output-self.output[np.argmax(self.oneHot)]*self.output)\n",
    "      self.gW3=self.ga3*self.h2.reshape(1,-1)\n",
    "      self.gb3=self.ga3\n",
    "      self.gh2=np.dot(np.transpose(self.W3),self.ga3)\n",
    "      self.ga2=self.gh2*self.h2*(1-self.h2)\n",
    "      self.gW2=self.ga2*self.h1.reshape(1,-1)\n",
    "      self.gb2=self.ga2\n",
    "      self.gh1=np.dot(np.transpose(self.W2),self.ga2)\n",
    "      self.ga1=self.gh1*self.h1*(1-self.h1)\n",
    "      self.gW1=self.ga1*input.reshape(1,-1)\n",
    "      self.gb1=self.ga1\n",
    "                           \n",
    "      self.gW3_MB+=self.gW3/self.MB_size\n",
    "      self.gb3_MB+=self.gb3/self.MB_size\n",
    "      self.gW2_MB+=self.gW2/self.MB_size\n",
    "      self.gb2_MB+=self.gb2/self.MB_size\n",
    "      self.gW1_MB+=self.gW1/self.MB_size\n",
    "      self.gb1_MB+=self.gb1/self.MB_size\n",
    "    \n",
    "    def update(self):\n",
    "      self.W1=self.W1-self.LR*self.gW1_MB\n",
    "      self.b1=self.b1-self.LR*self.gb1_MB\n",
    "      self.W2=self.W2-self.LR*self.gW2_MB\n",
    "      self.b2=self.b2-self.LR*self.gb2_MB\n",
    "      self.W3=self.W3-self.LR*self.gW3_MB\n",
    "      self.b3=self.b3-self.LR*self.gb3_MB\n",
    "    \n",
    "    def train(self,epoch,MB):\n",
    "      self.train_data=np.zeros((epoch+1,3))\n",
    "      self.valid_data=np.zeros((epoch+1,3))\n",
    "      self.reset_grad(len(self.train_set[0][0]))\n",
    "      self.MB_size=MB\n",
    "      Tot_Loss=0\n",
    "      example_count=0\n",
    "      print('Computing initial training error and loss')\n",
    "      train_Loss, train_error=self.test(self.train_set[0],self.train_set[1])\n",
    "      print('Initial training loss: ' +str(np.round(train_Loss,2))+', initial train error: '+str(np.round(train_error*100,2))+'%, initial train accuracy: '+str(np.round((1-train_error)*100,2))+'%')\n",
    "      print('Computing initial validation error and loss')\n",
    "      valid_Loss, valid_error=self.test(self.valid_set[0],self.valid_set[1])\n",
    "      print('Initial validation loss: ' +str(np.round(valid_Loss,2))+', initial valid error: '+str(np.round(valid_error*100,2))+'%, initial validation accuracy: '+str(np.round((1-valid_error)*100,2))+'%')\n",
    "      self.train_data[0,:]=[0,train_Loss,train_error]\n",
    "      self.valid_data[0,:]=[0,valid_Loss,valid_error]\n",
    "      for k in range(epoch):\n",
    "        for j in range(len(self.train_set[0])):\n",
    "          self.forward(np.array(self.train_set[0][j]).reshape(-1,1),self.train_set[1][j])\n",
    "          self.backward(np.array(self.train_set[0][j]).reshape(-1,1))\n",
    "          Tot_Loss+=self.L\n",
    "          example_count+=1\n",
    "          if j%MB==0 and not j==0:\n",
    "            self.update()\n",
    "            self.reset_grad(len(self.train_set[0][0]))\n",
    "            \n",
    "          if j%1000==0 and not j==0:\n",
    "            print('\\tLoss: '+str(np.round(Tot_Loss/example_count,3))+' '+str(np.round(j/len(self.train_set[0])*100,2))+'% of epoch ' +str(k+1)+' complete')\n",
    "            Tot_Loss=0\n",
    "            example_count=0\n",
    "        print('Epoch: '+str(k+1) +' complete\\n')\n",
    "        print('Computing training error and loss')\n",
    "        train_Loss, train_error=self.test(self.train_set[0],self.train_set[1])\n",
    "        print('Training loss: ' +str(np.round(train_Loss,2))+', train error: '+str(np.round(train_error*100,2))+'%, train accuracy: '+str(np.round((1-train_error)*100,2))+'%')\n",
    "        print('Computing validation error and loss')\n",
    "        valid_Loss, valid_error=self.test(self.valid_set[0],self.valid_set[1])\n",
    "        print('Validation loss: ' +str(np.round(valid_Loss,2))+', valid error: '+str(np.round(valid_error*100,2))+'%, validation accuracy: '+str(np.round((1-valid_error)*100,2))+'%')\n",
    "        self.train_data[k+1,:]=[k+1,train_Loss,train_error]\n",
    "        self.valid_data[k+1,:]=[k+1,valid_Loss,valid_error]\n",
    "      \n",
    "      test_Loss, test_error=self.test(self.test_set[0],self.test_set[1])\n",
    "      print('\\nTraining complete\\nError on test set: '+str(np.round(test_error*100,2))+'%, Accuracy on test set: '+str(np.round((1-test_error)*100,2))+'%')\n",
    "        \n",
    "        \n",
    "    \n",
    "    def test(self,input,label):\n",
    "      sumLoss=0\n",
    "      incorrect=0\n",
    "      for k in range(len(input)):\n",
    "        self.forward(np.array(input[k]).reshape(-1,1),label[k])\n",
    "        sumLoss+=self.L\n",
    "        incorrect+=np.minimum(1,np.abs(label[k]-np.argmax(self.output)))\n",
    "        if k%1000==0:\n",
    "            print('\\t'+str(np.round(k/len(input)*100,2))+'% of calc complete')\n",
    "      return sumLoss/len(input), incorrect/len(input)\n",
    "    \n",
    "    def predict(self,input):\n",
    "      a1=np.dot(self.W1,input)+self.b1\n",
    "      h1=self.activation_sig(a1)\n",
    "      a2=np.dot(self.W2,h1)+self.b2\n",
    "      h2=self.activation_sig(a2)\n",
    "      a3=np.dot(self.W3,h2)+self.b3\n",
    "      output=self.softmax(a3)\n",
    "      return np.argmax(output)\n",
    "        \n",
    "    \n",
    "    \n",
    "\n"
   ]
  },
  {
   "cell_type": "markdown",
   "metadata": {
    "colab_type": "text",
    "id": "K29Xfu4Jmh3u"
   },
   "source": [
    "## **Initialization**\n",
    "\n",
    "Number of hidden units in layer 1 is 520. Number of hidden units in layer 2 is 480.\n",
    "\n",
    "The total set of parameters is 784x520+520+520x480+480+480x10+10=663 090 = 0.66309 M.\n",
    "\n",
    "The activation is the sigmoid function. The learning rate is 0.05 and the minibatch size is 100."
   ]
  },
  {
   "cell_type": "code",
   "execution_count": null,
   "metadata": {
    "colab": {
     "base_uri": "https://localhost:8080/",
     "height": 67411
    },
    "colab_type": "code",
    "id": "SuieJr7crUwc",
    "outputId": "c6305432-7536-45e4-a72d-d245f20bc20f"
   },
   "outputs": [],
   "source": [
    "LR=0.05\n",
    "dims=(520,480)\n",
    "MB=100\n",
    "epochs=10\n",
    "print('Zero initialization\\n')\n",
    "\n",
    "NN_zero=NN('zero',train_set,valid_set,test_set,LR,dims)\n",
    "NN_zero.train(epochs,MB)\n",
    "\n",
    "print('Normal initialization\\n')\n",
    "NN_normal=NN('normal',train_set,valid_set,test_set,LR,dims)\n",
    "NN_normal.train(epochs,MB)\n",
    "\n",
    "print('Glarot initialization\\n')\n",
    "NN_glarot=NN('glarot',train_set,valid_set,test_set,LR,dims)\n",
    "NN_glarot.train(epochs,MB)\n",
    "\n",
    "\n",
    "print('\\nPlotting results\\n')\n",
    "plt.plot(NN_zero.train_data[:,0],NN_zero.train_data[:,1],label='Zero Init. Ave. Loss')\n",
    "plt.plot(NN_normal.train_data[:,0],NN_normal.train_data[:,1],label='Normal Init. Ave. Loss')\n",
    "plt.plot(NN_glarot.train_data[:,0],NN_glarot.train_data[:,1],label='Glarot Init. Ave. Loss')\n",
    "plt.title('Average loss on training as of function of epochs')\n",
    "plt.xlabel('Epochs')\n",
    "plt.ylabel('Average training loss')\n",
    "plt.legend()\n",
    "plt.show()\n",
    "\n",
    "  "
   ]
  },
  {
   "cell_type": "code",
   "execution_count": 0,
   "metadata": {
    "colab": {
     "base_uri": "https://localhost:8080/",
     "height": 844
    },
    "colab_type": "code",
    "id": "eSHLktMG3Qj2",
    "outputId": "7b52f5ff-5215-42e5-a4c9-831e00fec393"
   },
   "outputs": [
    {
     "name": "stdout",
     "output_type": "stream",
     "text": [
      "\n",
      "Plotting results\n",
      "\n"
     ]
    },
    {
     "data": {
      "image/png": "[encoded data removed]",
      "text/plain": [
       "<Figure size 576x396 with 1 Axes>"
      ]
     },
     "metadata": {
      "tags": []
     },
     "output_type": "display_data"
    },
    {
     "name": "stdout",
     "output_type": "stream",
     "text": [
      "\n",
      "Plotting results\n",
      "\n"
     ]
    },
    {
     "data": {
      "image/png": "[encoded data removed]",
      "text/plain": [
       "<Figure size 576x396 with 1 Axes>"
      ]
     },
     "metadata": {
      "tags": []
     },
     "output_type": "display_data"
    }
   ],
   "source": [
    "print('\\nPlotting results\\n')\n",
    "plt.plot(NN_zero.train_data[:,0],NN_zero.train_data[:,1],label='Zero Init. Ave. Loss')\n",
    "plt.plot(NN_normal.train_data[:,0],NN_normal.train_data[:,1],label='Normal Init. Ave. Loss')\n",
    "plt.plot(NN_glarot.train_data[:,0],NN_glarot.train_data[:,1],label='Glarot Init. Ave. Loss')\n",
    "plt.title('Average loss on training as of function of epochs -Including before training')\n",
    "plt.xlabel('Epochs')\n",
    "plt.ylabel('Average training loss')\n",
    "plt.legend()\n",
    "plt.show()\n",
    "\n",
    "print('\\nPlotting results\\n')\n",
    "plt.plot(NN_zero.train_data[1:,0],NN_zero.train_data[1:,1],label='Zero Init. Ave. Loss')\n",
    "plt.plot(NN_normal.train_data[1:,0],NN_normal.train_data[1:,1],label='Normal Init. Ave. Loss')\n",
    "plt.plot(NN_glarot.train_data[1:,0],NN_glarot.train_data[1:,1],label='Glarot Init. Ave. Loss')\n",
    "plt.title('Average loss on training as of function of epochs - Not including before training')\n",
    "plt.xlabel('Epochs')\n",
    "plt.ylabel('Average training loss')\n",
    "plt.legend()\n",
    "plt.show()"
   ]
  },
  {
   "cell_type": "markdown",
   "metadata": {
    "colab_type": "text",
    "id": "GpMWHJ1p3ZlC"
   },
   "source": [
    "As one can observe from the graphs above, when initializing the weights with the \"zero\" method, the training loss remains constant. This is natural since backpropagation cannot get through the hidden units, since we multiply the  last hidden layers gradient by the weights of zero which leads to zero gradient. The only parameters that can improve are the bias of the last layer.\n",
    "\n",
    "We can also observe that when initializing with the \"Normal\" and \"Glarot\" methods, there is learning occuring since the average training loss diminishes. We observe that the the Glarot method diminishes training loss more rapidly and therefore is a better initialisation of the weights."
   ]
  },
  {
   "cell_type": "markdown",
   "metadata": {
    "colab_type": "text",
    "id": "dBS2f1ib8m08"
   },
   "source": [
    "# **Hyperparameter search**"
   ]
  },
  {
   "cell_type": "code",
   "execution_count": null,
   "metadata": {
    "colab": {
     "base_uri": "https://localhost:8080/",
     "height": 22344
    },
    "colab_type": "code",
    "id": "lFus99cZ8yRq",
    "outputId": "1db08218-c4d0-42e2-fa33-b07e663284e2"
   },
   "outputs": [],
   "source": [
    "#try 1\n",
    "\n",
    "LR=0.1\n",
    "dims=(520,480)\n",
    "MB=100\n",
    "epochs=10\n",
    "\n",
    "print('Glarot initialization\\n')\n",
    "NN_glarot=NN('glarot',train_set,valid_set,test_set,LR,dims)\n",
    "NN_glarot.train(epochs,MB)"
   ]
  },
  {
   "cell_type": "code",
   "execution_count": null,
   "metadata": {
    "colab": {
     "base_uri": "https://localhost:8080/",
     "height": 22344
    },
    "colab_type": "code",
    "id": "VS41inlSL3EQ",
    "outputId": "e5d94a1a-0049-4727-e5f4-e258fea3293e"
   },
   "outputs": [],
   "source": [
    "#try 2\n",
    "\n",
    "LR=0.1\n",
    "dims=(520,480)\n",
    "MB=200\n",
    "epochs=10\n",
    "\n",
    "print('Glarot initialization\\n')\n",
    "NN_glarot=NN('glarot',train_set,valid_set,test_set,LR,dims)\n",
    "NN_glarot.train(epochs,MB)"
   ]
  },
  {
   "cell_type": "code",
   "execution_count": null,
   "metadata": {
    "colab": {
     "base_uri": "https://localhost:8080/",
     "height": 22344
    },
    "colab_type": "code",
    "id": "vKk_PLroZkgu",
    "outputId": "4bc9884f-e0df-41f2-d97a-501cf6621553"
   },
   "outputs": [],
   "source": [
    "#try 3\n",
    "\n",
    "LR=0.1\n",
    "dims=(520,480)\n",
    "MB=50\n",
    "epochs=10\n",
    "\n",
    "print('Glarot initialization\\n')\n",
    "NN_glarot=NN('glarot',train_set,valid_set,test_set,LR,dims)\n",
    "NN_glarot.train(epochs,MB)"
   ]
  },
  {
   "cell_type": "code",
   "execution_count": null,
   "metadata": {
    "colab": {
     "base_uri": "https://localhost:8080/",
     "height": 22344
    },
    "colab_type": "code",
    "id": "BxEsDshJ6XZa",
    "outputId": "55b8d373-8426-4e14-93d9-09ecffe2e1fe"
   },
   "outputs": [],
   "source": [
    "#try 4\n",
    "\n",
    "LR=0.1\n",
    "dims=(550,480)\n",
    "MB=50\n",
    "epochs=10\n",
    "\n",
    "print('Glarot initialization\\n')\n",
    "NN_glarot=NN('glarot',train_set,valid_set,test_set,LR,dims)\n",
    "NN_glarot.train(epochs,MB)"
   ]
  },
  {
   "cell_type": "code",
   "execution_count": null,
   "metadata": {
    "colab": {
     "base_uri": "https://localhost:8080/",
     "height": 22344
    },
    "colab_type": "code",
    "id": "HBtkSi7HIIKP",
    "outputId": "302950a8-9788-4896-88bd-25c4dbcde2af"
   },
   "outputs": [],
   "source": [
    "#try 5\n",
    "\n",
    "LR=0.1\n",
    "dims=(520,550)\n",
    "MB=50\n",
    "epochs=10\n",
    "\n",
    "print('Glarot initialization\\n')\n",
    "NN_glarot=NN('glarot',train_set,valid_set,test_set,LR,dims)\n",
    "NN_glarot.train(epochs,MB)"
   ]
  },
  {
   "cell_type": "code",
   "execution_count": null,
   "metadata": {
    "colab": {
     "base_uri": "https://localhost:8080/",
     "height": 22344
    },
    "colab_type": "code",
    "id": "ICMuIKOXU6Ul",
    "outputId": "e29cadab-6e5a-4212-a815-49183c393459"
   },
   "outputs": [],
   "source": [
    "#try 6\n",
    "\n",
    "LR=0.15\n",
    "dims=(520,600)\n",
    "MB=35\n",
    "epochs=10\n",
    "\n",
    "print('Glarot initialization\\n')\n",
    "NN_glarot=NN('glarot',train_set,valid_set,test_set,LR,dims)\n",
    "NN_glarot.train(epochs,MB)"
   ]
  },
  {
   "cell_type": "code",
   "execution_count": null,
   "metadata": {
    "colab": {
     "base_uri": "https://localhost:8080/",
     "height": 22344
    },
    "colab_type": "code",
    "id": "Chkjbm7wVdLf",
    "outputId": "6f3a5ce3-da60-45ed-f31a-8e3ca870631e"
   },
   "outputs": [],
   "source": [
    "LR=0.30\n",
    "dims=(520,600)\n",
    "MB=20\n",
    "epochs=10\n",
    "\n",
    "print('Glarot initialization\\n')\n",
    "NN_glarot=NN('glarot',train_set,valid_set,test_set,LR,dims)\n",
    "NN_glarot.train(epochs,MB)"
   ]
  },
  {
   "cell_type": "markdown",
   "metadata": {
    "colab_type": "text",
    "id": "xCevwlkjYWct"
   },
   "source": [
    "An average of 97.06% accuracy on the validation set and an average of 96.97 % accuracy on the test set was observed with the following parameters:\n",
    "\n",
    "Hidden units of layer 1: 520\n",
    "\n",
    "Hidden units of layer 2: 600\n",
    "\n",
    "Learning rate: 0.30\n",
    "\n",
    "Mini batch size : 20\n",
    "\n",
    "Nonlinearity used: sigmoid\n",
    "\n",
    "\n",
    "The following table shows the hyperparamater search that was done:\n",
    "\n",
    "![alt text](https://i.ibb.co/xz1Tyv4/Parameter-Search.png)\n",
    "\n",
    "\n"
   ]
  },
  {
   "cell_type": "markdown",
   "metadata": {
    "colab_type": "text",
    "id": "QXecmVHuh9jd"
   },
   "source": [
    "# **Validate gradients using finite different**"
   ]
  },
  {
   "cell_type": "code",
   "execution_count": null,
   "metadata": {
    "colab": {
     "base_uri": "https://localhost:8080/",
     "height": 35
    },
    "colab_type": "code",
    "id": "XKM7IAi4lI_p",
    "outputId": "18d70952-b113-4a1a-99a9-986152b2c79b"
   },
   "outputs": [],
   "source": [
    "#get gradient for one training example\n",
    "NN_glarot.forward(np.array(NN_glarot.train_set[0][0]).reshape(-1,1),NN_glarot.train_set[1][0])\n",
    "NN_glarot.backward(np.array(NN_glarot.train_set[0][0]).reshape(-1,1))\n",
    "\n",
    "noPoints=100\n",
    "true_grad=NN_glarot.gW2[0,:10]\n",
    "finite_grad=np.zeros((noPoints,10)) # values by parameters N*I\n",
    "iValues=np.linspace(0,5,noPoints)\n",
    "N=np.zeros(noPoints)\n",
    "for i in range(noPoints):\n",
    "  n=10**iValues[i]\n",
    "  N[i]=n\n",
    "  for j in range(10):\n",
    "    weight=NN_glarot.W2[0,j]\n",
    "    NN_glarot.W2[0,j]=weight+1/n\n",
    "    NN_glarot.forward(np.array(NN_glarot.train_set[0][0]).reshape(-1,1),NN_glarot.train_set[1][0])\n",
    "    loss1=NN_glarot.L\n",
    "    NN_glarot.W2[0,j]=weight-1/n\n",
    "    NN_glarot.forward(np.array(NN_glarot.train_set[0][0]).reshape(-1,1),NN_glarot.train_set[1][0])\n",
    "    loss2=NN_glarot.L\n",
    "    NN_glarot.W2[0,j]=weight\n",
    "    finite_grad[i,j]=(loss1-loss2)/(2*1/n)\n",
    "\n",
    "print(\"done\")"
   ]
  },
  {
   "cell_type": "code",
   "execution_count": 0,
   "metadata": {
    "colab": {
     "base_uri": "https://localhost:8080/",
     "height": 431
    },
    "colab_type": "code",
    "id": "j2Axey6501R6",
    "outputId": "f3d03d79-1728-4af0-d8c7-2ee08a59520d"
   },
   "outputs": [
    {
     "name": "stdout",
     "output_type": "stream",
     "text": [
      "\n",
      "Plotting results\n",
      "\n"
     ]
    },
    {
     "data": {
      "image/png": "[encoded data removed]",
      "text/plain": [
       "<Figure size 576x396 with 1 Axes>"
      ]
     },
     "metadata": {
      "tags": []
     },
     "output_type": "display_data"
    }
   ],
   "source": [
    "maxDiff=np.amax(np.abs(finite_grad-true_grad),axis=1)\n",
    "maxDiff=maxDiff/(10**(-7))\n",
    "print('\\nPlotting results\\n')\n",
    "plt.plot(N,maxDiff)\n",
    "plt.title('Max difference between true and finite difference gradient as a function of N')\n",
    "plt.xlabel('N')\n",
    "plt.ylabel('max |true - fD| (*10^-7)')\n",
    "plt.show()"
   ]
  },
  {
   "cell_type": "markdown",
   "metadata": {
    "colab_type": "text",
    "id": "l6S3wkxgWTfr"
   },
   "source": [
    "We can see from the figure above that when N gets bigger, the difference between the true gradient and finite difference gradient decreases. We also observe that the difference for both gradients is extremely small (10^-7). This is a sign that the Neural Net has converged. If we had done this before training the neural net, the difference would be much greater."
   ]
  }
 ],
 "metadata": {
  "colab": {
   "collapsed_sections": [],
   "name": "DL_Ass1_P1.ipynb",
   "provenance": [],
   "version": "0.3.2"
  },
  "kernelspec": {
   "display_name": "Python 3",
   "language": "python",
   "name": "python3"
  }
 },
 "nbformat": 4,
 "nbformat_minor": 1
}
